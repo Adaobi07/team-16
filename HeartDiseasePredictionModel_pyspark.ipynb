{
  "nbformat": 4,
  "nbformat_minor": 0,
  "metadata": {
    "colab": {
      "provenance": []
    },
    "kernelspec": {
      "name": "python3",
      "display_name": "Python 3"
    },
    "language_info": {
      "name": "python"
    }
  },
  "cells": [
    {
      "cell_type": "code",
      "execution_count": 59,
      "metadata": {
        "id": "v-BAzLllpMKN"
      },
      "outputs": [],
      "source": [
        "from pyspark.sql import SparkSession\n",
        "from pyspark.ml.feature import VectorAssembler\n",
        "from pyspark.ml.classification import LogisticRegression, DecisionTreeClassifier, RandomForestClassifier, GBTClassifier, MultilayerPerceptronClassifier\n",
        "from pyspark.ml.evaluation import MulticlassClassificationEvaluator\n",
        "from pyspark.sql.functions import col"
      ]
    },
    {
      "cell_type": "code",
      "source": [
        "spark = SparkSession.builder.appName(\"Heart Disease Prediction\").getOrCreate()"
      ],
      "metadata": {
        "id": "N56P_UqRLycs"
      },
      "execution_count": 60,
      "outputs": []
    },
    {
      "cell_type": "code",
      "source": [
        "df = spark.read.csv('heart_cleaned.csv', inferSchema=True,header=True)"
      ],
      "metadata": {
        "id": "zENGZoi1L3AY"
      },
      "execution_count": 61,
      "outputs": []
    },
    {
      "cell_type": "code",
      "source": [
        "df.show()"
      ],
      "metadata": {
        "colab": {
          "base_uri": "https://localhost:8080/"
        },
        "id": "ryRIoUggL3Dd",
        "outputId": "a3bf4f14-e5a4-4bae-b330-f805b427d8b9"
      },
      "execution_count": 62,
      "outputs": [
        {
          "output_type": "stream",
          "name": "stdout",
          "text": [
            "+---+---+-------------+---------+-----------+---------+----------+-----+--------------+-------+--------+------------+\n",
            "|Age|Sex|ChestPainType|RestingBP|Cholesterol|FastingBS|RestingECG|MaxHR|ExerciseAngina|Oldpeak|ST_Slope|HeartDisease|\n",
            "+---+---+-------------+---------+-----------+---------+----------+-----+--------------+-------+--------+------------+\n",
            "| 40|  1|            1|      140|        289|        0|         1|  172|             0|    0.0|       2|           0|\n",
            "| 49|  0|            2|      160|        180|        0|         1|  156|             0|    1.0|       1|           1|\n",
            "| 37|  1|            1|      130|        283|        0|         2|   98|             0|    0.0|       2|           0|\n",
            "| 48|  0|            0|      138|        214|        0|         1|  108|             1|    1.5|       1|           1|\n",
            "| 54|  1|            2|      150|        195|        0|         1|  122|             0|    0.0|       2|           0|\n",
            "| 39|  1|            2|      120|        339|        0|         1|  170|             0|    0.0|       2|           0|\n",
            "| 45|  0|            1|      130|        237|        0|         1|  170|             0|    0.0|       2|           0|\n",
            "| 54|  1|            1|      110|        208|        0|         1|  142|             0|    0.0|       2|           0|\n",
            "| 37|  1|            0|      140|        207|        0|         1|  130|             1|    1.5|       1|           1|\n",
            "| 48|  0|            1|      120|        284|        0|         1|  120|             0|    0.0|       2|           0|\n",
            "| 37|  0|            2|      130|        211|        0|         1|  142|             0|    0.0|       2|           0|\n",
            "| 58|  1|            1|      136|        164|        0|         2|   99|             1|    2.0|       1|           1|\n",
            "| 39|  1|            1|      120|        204|        0|         1|  145|             0|    0.0|       2|           0|\n",
            "| 49|  1|            0|      140|        234|        0|         1|  140|             1|    1.0|       1|           1|\n",
            "| 42|  0|            2|      115|        211|        0|         2|  137|             0|    0.0|       2|           0|\n",
            "| 54|  0|            1|      120|        273|        0|         1|  150|             0|    1.5|       1|           0|\n",
            "| 38|  1|            0|      110|        196|        0|         1|  166|             0|    0.0|       1|           1|\n",
            "| 43|  0|            1|      120|        201|        0|         1|  165|             0|    0.0|       2|           0|\n",
            "| 60|  1|            0|      100|        248|        0|         1|  125|             0|    1.0|       1|           1|\n",
            "| 36|  1|            1|      120|        267|        0|         1|  160|             0|    3.0|       1|           1|\n",
            "+---+---+-------------+---------+-----------+---------+----------+-----+--------------+-------+--------+------------+\n",
            "only showing top 20 rows\n",
            "\n"
          ]
        }
      ]
    },
    {
      "cell_type": "code",
      "source": [
        "df.printSchema()"
      ],
      "metadata": {
        "colab": {
          "base_uri": "https://localhost:8080/"
        },
        "id": "iOBVKz_CL3H1",
        "outputId": "281086c3-4fa3-4c3b-bd00-3c8eb0691648"
      },
      "execution_count": 63,
      "outputs": [
        {
          "output_type": "stream",
          "name": "stdout",
          "text": [
            "root\n",
            " |-- Age: integer (nullable = true)\n",
            " |-- Sex: integer (nullable = true)\n",
            " |-- ChestPainType: integer (nullable = true)\n",
            " |-- RestingBP: integer (nullable = true)\n",
            " |-- Cholesterol: integer (nullable = true)\n",
            " |-- FastingBS: integer (nullable = true)\n",
            " |-- RestingECG: integer (nullable = true)\n",
            " |-- MaxHR: integer (nullable = true)\n",
            " |-- ExerciseAngina: integer (nullable = true)\n",
            " |-- Oldpeak: double (nullable = true)\n",
            " |-- ST_Slope: integer (nullable = true)\n",
            " |-- HeartDisease: integer (nullable = true)\n",
            "\n"
          ]
        }
      ]
    },
    {
      "cell_type": "code",
      "source": [
        "df.describe().show()"
      ],
      "metadata": {
        "colab": {
          "base_uri": "https://localhost:8080/"
        },
        "id": "NEwKN7CENg04",
        "outputId": "0323e9c4-34c5-4700-d501-2e5549d5c45b"
      },
      "execution_count": 64,
      "outputs": [
        {
          "output_type": "stream",
          "name": "stdout",
          "text": [
            "+-------+------------------+------------------+------------------+------------------+------------------+-------------------+------------------+------------------+-------------------+------------------+------------------+-------------------+\n",
            "|summary|               Age|               Sex|     ChestPainType|         RestingBP|       Cholesterol|          FastingBS|        RestingECG|             MaxHR|     ExerciseAngina|           Oldpeak|          ST_Slope|       HeartDisease|\n",
            "+-------+------------------+------------------+------------------+------------------+------------------+-------------------+------------------+------------------+-------------------+------------------+------------------+-------------------+\n",
            "|  count|               918|               918|               918|               918|               918|                918|               918|               918|                918|               918|               918|                918|\n",
            "|   mean|53.510893246187365| 0.789760348583878|0.7810457516339869|132.39651416122004| 198.7995642701525|0.23311546840958605|0.9891067538126361|136.80936819172112|0.40413943355119825|0.8873638344226581|1.3616557734204793| 0.5533769063180828|\n",
            "| stddev|  9.43261650673202|0.4077008804691499|0.9565193832384323|18.514154119907808|109.38414455220345|0.42304562473930296|0.6316714317993976| 25.46033413825029|0.49099221882320626|1.0665701510493264|0.6070561850472692|0.49741373828459706|\n",
            "|    min|                28|                 0|                 0|                 0|                 0|                  0|                 0|                60|                  0|              -2.6|                 0|                  0|\n",
            "|    max|                77|                 1|                 3|               200|               603|                  1|                 2|               202|                  1|               6.2|                 2|                  1|\n",
            "+-------+------------------+------------------+------------------+------------------+------------------+-------------------+------------------+------------------+-------------------+------------------+------------------+-------------------+\n",
            "\n"
          ]
        }
      ]
    },
    {
      "cell_type": "code",
      "source": [
        "target_column = df.columns[-1]"
      ],
      "metadata": {
        "id": "Gv9ZvIgc888x"
      },
      "execution_count": 65,
      "outputs": []
    },
    {
      "cell_type": "code",
      "source": [
        "feature_columns = df.columns[:-1]"
      ],
      "metadata": {
        "id": "BkGu1N_f9B6D"
      },
      "execution_count": 66,
      "outputs": []
    },
    {
      "cell_type": "code",
      "source": [
        "assembler = VectorAssembler(inputCols=feature_columns, outputCol=\"features\")\n",
        "df = assembler.transform(df)"
      ],
      "metadata": {
        "id": "jldja3t49IZJ"
      },
      "execution_count": 67,
      "outputs": []
    },
    {
      "cell_type": "code",
      "source": [
        "train_df, test_df = df.randomSplit([0.7, 0.3], seed=42)"
      ],
      "metadata": {
        "id": "FZvdFKkB9LkK"
      },
      "execution_count": 68,
      "outputs": []
    },
    {
      "cell_type": "code",
      "source": [
        "layers = [len(feature_columns), 10, 5, 2]"
      ],
      "metadata": {
        "id": "vC-UBVK09OlZ"
      },
      "execution_count": 69,
      "outputs": []
    },
    {
      "cell_type": "code",
      "source": [
        "mlp = MultilayerPerceptronClassifier(labelCol=target_column, featuresCol=\"features\", layers=layers, blockSize=128, seed=12)\n"
      ],
      "metadata": {
        "id": "bVgpNauC9SI2"
      },
      "execution_count": 70,
      "outputs": []
    },
    {
      "cell_type": "code",
      "source": [
        "evaluator = MulticlassClassificationEvaluator(labelCol=target_column, metricName=\"accuracy\")"
      ],
      "metadata": {
        "id": "Ep4Fue2h9Wo7"
      },
      "execution_count": 71,
      "outputs": []
    },
    {
      "cell_type": "code",
      "source": [
        "def show_confusion_matrix(predictions, model_name):\n",
        "    confusion_matrix = predictions.groupBy(target_column, \"prediction\").count().orderBy(target_column, \"prediction\")\n",
        "    print(f\"\\nConfusion Matrix for {model_name}:\")\n",
        "    confusion_matrix.show()"
      ],
      "metadata": {
        "id": "yzBwKBcCPp2-"
      },
      "execution_count": 72,
      "outputs": []
    },
    {
      "cell_type": "code",
      "source": [
        "lr = LogisticRegression(labelCol=target_column, featuresCol=\"features\")\n",
        "lr_model = lr.fit(train_df)\n",
        "lr_predictions = lr_model.transform(test_df)\n",
        "lr_accuracy = evaluator.evaluate(lr_predictions)\n",
        "print(f\"Logistic Regression Accuracy: {lr_accuracy}\")\n",
        "show_confusion_matrix(lr_predictions, \"Logistic Regression\")"
      ],
      "metadata": {
        "id": "1WWN2tPk9fA_",
        "outputId": "8187935f-ac74-4ab9-ccd3-7bd7f39c47bf",
        "colab": {
          "base_uri": "https://localhost:8080/"
        }
      },
      "execution_count": 73,
      "outputs": [
        {
          "output_type": "stream",
          "name": "stdout",
          "text": [
            "Logistic Regression Accuracy: 0.8776371308016878\n",
            "\n",
            "Confusion Matrix for Logistic Regression:\n",
            "+------------+----------+-----+\n",
            "|HeartDisease|prediction|count|\n",
            "+------------+----------+-----+\n",
            "|           0|       0.0|   83|\n",
            "|           0|       1.0|   16|\n",
            "|           1|       0.0|   13|\n",
            "|           1|       1.0|  125|\n",
            "+------------+----------+-----+\n",
            "\n"
          ]
        }
      ]
    },
    {
      "cell_type": "code",
      "source": [
        "dt = DecisionTreeClassifier(labelCol=target_column, featuresCol=\"features\")\n",
        "dt_model = dt.fit(train_df)\n",
        "dt_predictions = dt_model.transform(test_df)\n",
        "dt_accuracy = evaluator.evaluate(dt_predictions)\n",
        "print(f\"Decision Tree Accuracy: {dt_accuracy}\")\n",
        "show_confusion_matrix(dt_predictions, \"Decision Tree\")"
      ],
      "metadata": {
        "id": "DIlzSeuk9iHL",
        "outputId": "dd2d39b4-a26c-4d54-c308-c3c7e4f4ec09",
        "colab": {
          "base_uri": "https://localhost:8080/"
        }
      },
      "execution_count": 74,
      "outputs": [
        {
          "output_type": "stream",
          "name": "stdout",
          "text": [
            "Decision Tree Accuracy: 0.8438818565400844\n",
            "\n",
            "Confusion Matrix for Decision Tree:\n",
            "+------------+----------+-----+\n",
            "|HeartDisease|prediction|count|\n",
            "+------------+----------+-----+\n",
            "|           0|       0.0|   79|\n",
            "|           0|       1.0|   20|\n",
            "|           1|       0.0|   17|\n",
            "|           1|       1.0|  121|\n",
            "+------------+----------+-----+\n",
            "\n"
          ]
        }
      ]
    },
    {
      "cell_type": "code",
      "source": [
        "gbt = GBTClassifier(labelCol=target_column, featuresCol=\"features\", maxIter=100)\n",
        "gbt_model = gbt.fit(train_df)\n",
        "gbt_predictions = gbt_model.transform(test_df)\n",
        "gbt_accuracy = evaluator.evaluate(gbt_predictions)\n",
        "print(f\"Gradient Boosted Tree Accuracy: {gbt_accuracy}\")\n",
        "show_confusion_matrix(gbt_predictions, \"Gradient Boosted Tree\")"
      ],
      "metadata": {
        "colab": {
          "base_uri": "https://localhost:8080/"
        },
        "id": "qGCpKXeUPvMp",
        "outputId": "13ec2313-3f5d-4ba5-ca9b-81877a7d00c9"
      },
      "execution_count": 75,
      "outputs": [
        {
          "output_type": "stream",
          "name": "stdout",
          "text": [
            "Gradient Boosted Tree Accuracy: 0.8565400843881856\n",
            "\n",
            "Confusion Matrix for Gradient Boosted Tree:\n",
            "+------------+----------+-----+\n",
            "|HeartDisease|prediction|count|\n",
            "+------------+----------+-----+\n",
            "|           0|       0.0|   86|\n",
            "|           0|       1.0|   13|\n",
            "|           1|       0.0|   21|\n",
            "|           1|       1.0|  117|\n",
            "+------------+----------+-----+\n",
            "\n"
          ]
        }
      ]
    },
    {
      "cell_type": "code",
      "source": [
        "layers = [len(feature_columns), 36, 12, 2]\n",
        "mlp = MultilayerPerceptronClassifier(labelCol=target_column, featuresCol=\"features\", layers=layers, blockSize=128, seed=12)\n",
        "mlp_model = mlp.fit(train_df)\n",
        "mlp_predictions = mlp_model.transform(test_df)\n",
        "mlp_accuracy = evaluator.evaluate(mlp_predictions)\n",
        "print(f\"Multilayer Perceptron (MLP) Accuracy: {mlp_accuracy}\")\n",
        "show_confusion_matrix(mlp_predictions, \"Multilayer Perceptron (MLP)\")"
      ],
      "metadata": {
        "colab": {
          "base_uri": "https://localhost:8080/"
        },
        "id": "bAsOdngzPwYa",
        "outputId": "c22259cb-b492-4c9a-abcb-4ecf604d0d66"
      },
      "execution_count": 77,
      "outputs": [
        {
          "output_type": "stream",
          "name": "stdout",
          "text": [
            "Multilayer Perceptron (MLP) Accuracy: 0.7130801687763713\n",
            "\n",
            "Confusion Matrix for Multilayer Perceptron (MLP):\n",
            "+------------+----------+-----+\n",
            "|HeartDisease|prediction|count|\n",
            "+------------+----------+-----+\n",
            "|           0|       0.0|   79|\n",
            "|           0|       1.0|   20|\n",
            "|           1|       0.0|   48|\n",
            "|           1|       1.0|   90|\n",
            "+------------+----------+-----+\n",
            "\n"
          ]
        }
      ]
    }
  ]
}